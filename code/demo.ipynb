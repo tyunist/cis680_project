{
 "cells": [
  {
   "cell_type": "markdown",
   "metadata": {},
   "source": [
    "# Point Cloud Display\n",
    "###  Name: Ty Nguyen\n",
    "###  Student ID:   tynguyen\n",
    " "
   ]
  },
  {
   "cell_type": "code",
   "execution_count": 14,
   "metadata": {},
   "outputs": [
    {
     "name": "stdout",
     "output_type": "stream",
     "text": [
      "[ 0.15        0.4905642   0.47305447]\n"
     ]
    },
    {
     "data": {
      "image/png": "[encoded data removed]",
      "text/plain": [
       "<matplotlib.figure.Figure at 0x7f346e0d6ad0>"
      ]
     },
     "metadata": {},
     "output_type": "display_data"
    },
    {
     "data": {
      "text/html": [
       "\n",
       "        <iframe\n",
       "            width=\"800\"\n",
       "            height=\"800\"\n",
       "            src=\"plot_points.html\"\n",
       "            frameborder=\"0\"\n",
       "            allowfullscreen\n",
       "        ></iframe>\n",
       "        "
      ],
      "text/plain": [
       "<IPython.lib.display.IFrame at 0x7f346df42e50>"
      ]
     },
     "metadata": {},
     "output_type": "display_data"
    },
    {
     "name": "stdout",
     "output_type": "stream",
     "text": [
      "==> Voxelization...\n"
     ]
    },
    {
     "data": {
      "text/html": [
       "\n",
       "        <iframe\n",
       "            width=\"800\"\n",
       "            height=\"800\"\n",
       "            src=\"plotVG.html\"\n",
       "            frameborder=\"0\"\n",
       "            allowfullscreen\n",
       "        ></iframe>\n",
       "        "
      ],
      "text/plain": [
       "<IPython.lib.display.IFrame at 0x7f346df42a90>"
      ]
     },
     "metadata": {},
     "output_type": "display_data"
    }
   ],
   "source": [
    "import numpy as np\n",
    "from IPython.display import IFrame\n",
    "from IPython.display import display \n",
    "from matplotlib import pyplot as plt\n",
    "import os, pdb \n",
    "import h5py \n",
    "from utils import TEMPLATE_POINTS, TEMPLATE_VG, plot_voxelgrid, plot_points, array_to_color, disp_image\n",
    "from voxelgrid import VoxelGrid \n",
    "\n",
    "data_path = \"/home/tynguyen/cis680/data/3d-mnist\"\n",
    "train_dir = os.path.join(data_path, 'train_point_clouds.h5')\n",
    " \n",
    "with h5py.File(train_dir, 'r') as hf:\n",
    "    zero = hf[\"0\"]\n",
    "    digit_zero = (zero[\"img\"][:], zero[\"points\"][:], zero.attrs[\"label\"])\n",
    "    pc_zero = digit_zero[1]  # Numpy, 25700 x 3 \n",
    "    lab_zero = digit_zero[2] # Numpy int64 \n",
    "    img_zero = digit_zero[0] # Numpy 30 x 30, float64 \n",
    "    \n",
    "    print pc_zero.max(0)\n",
    "    \n",
    "    # Display image \n",
    "    disp_image(img_zero)\n",
    "    \n",
    "    # Display point cloud \n",
    "    iframe = plot_points(pc_zero)\n",
    "    display(iframe)\n",
    "    \n",
    "    # Display Voxel\n",
    "    voxel_grid = VoxelGrid(pc_zero, x_y_z=[10, 10, 10], bb_cuboid=True)\n",
    "    iframe = plot_voxelgrid(voxel_grid, cmap='hot')\n",
    "    display(iframe)"
   ]
  },
  {
   "cell_type": "code",
   "execution_count": null,
   "metadata": {
    "collapsed": true
   },
   "outputs": [],
   "source": []
  },
  {
   "cell_type": "code",
   "execution_count": null,
   "metadata": {
    "collapsed": true
   },
   "outputs": [],
   "source": []
  }
 ],
 "metadata": {
  "anaconda-cloud": {},
  "kernelspec": {
   "display_name": "Python 2",
   "language": "python",
   "name": "python2"
  },
  "language_info": {
   "codemirror_mode": {
    "name": "ipython",
    "version": 2
   },
   "file_extension": ".py",
   "mimetype": "text/x-python",
   "name": "python",
   "nbconvert_exporter": "python",
   "pygments_lexer": "ipython2",
   "version": "2.7.12"
  }
 },
 "nbformat": 4,
 "nbformat_minor": 2
}
